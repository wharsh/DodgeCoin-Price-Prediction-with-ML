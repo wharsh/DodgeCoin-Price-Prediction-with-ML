{
 "cells": [
  {
   "cell_type": "markdown",
   "id": "28811bfd",
   "metadata": {},
   "source": [
    "# Dogecoin Price Prediction with Machine Learning\n",
    "### Credit: www.geeksforgeeks.org"
   ]
  },
  {
   "cell_type": "markdown",
   "id": "3978dce2",
   "metadata": {},
   "source": [
    "Dogecoin is a cryptocurrency, like Ethereum or Bitcoin — despite the fact that it’s totally different than both of these famous coins. Dogecoin was initially made to some extent as a joke for crypto devotees and took its name from a previously well-known meme.\n",
    "\n",
    "In this article, we will be implementing a machine learning model which can predict the pattern or forecast the price of the coin in the upcoming days. Let us now move toward the implementation of price prediction.\n",
    "\n",
    "### Importing Libraries and Dataset\n",
    "\n",
    "Python libraries make it easy for us to handle the data and perform typical and complex tasks with a single line of code.\n",
    "\n",
    "Pandas – This library helps to load the data frame in a 2D array format and has multiple functions to perform analysis tasks in one go.\n",
    "Numpy – Numpy arrays are very fast and can perform large computations in a very short time.\n",
    "Matplotlib/Seaborn – This library is used to draw visualizations.\n"
   ]
  },
  {
   "cell_type": "code",
   "execution_count": 1,
   "id": "e9611225",
   "metadata": {},
   "outputs": [],
   "source": [
    "import pandas as pd \n",
    "import numpy as np \n",
    "import matplotlib.pyplot as plt \n",
    "import seaborn as sns \n",
    "from sklearn.ensemble import RandomForestRegressor "
   ]
  },
  {
   "cell_type": "markdown",
   "id": "7ddc2ee0",
   "metadata": {},
   "source": [
    "Now let us load the dataset in the panda’s data frame. One can download the CSV file."
   ]
  },
  {
   "cell_type": "code",
   "execution_count": 2,
   "id": "94754ae5",
   "metadata": {},
   "outputs": [
    {
     "data": {
      "text/html": [
       "<div>\n",
       "<style scoped>\n",
       "    .dataframe tbody tr th:only-of-type {\n",
       "        vertical-align: middle;\n",
       "    }\n",
       "\n",
       "    .dataframe tbody tr th {\n",
       "        vertical-align: top;\n",
       "    }\n",
       "\n",
       "    .dataframe thead th {\n",
       "        text-align: right;\n",
       "    }\n",
       "</style>\n",
       "<table border=\"1\" class=\"dataframe\">\n",
       "  <thead>\n",
       "    <tr style=\"text-align: right;\">\n",
       "      <th></th>\n",
       "      <th>Date</th>\n",
       "      <th>Open</th>\n",
       "      <th>High</th>\n",
       "      <th>Low</th>\n",
       "      <th>Close</th>\n",
       "      <th>Adj Close</th>\n",
       "      <th>Volume</th>\n",
       "    </tr>\n",
       "  </thead>\n",
       "  <tbody>\n",
       "    <tr>\n",
       "      <th>0</th>\n",
       "      <td>2017-11-09</td>\n",
       "      <td>0.001207</td>\n",
       "      <td>0.001415</td>\n",
       "      <td>0.001181</td>\n",
       "      <td>0.001415</td>\n",
       "      <td>0.001415</td>\n",
       "      <td>6259550.0</td>\n",
       "    </tr>\n",
       "    <tr>\n",
       "      <th>1</th>\n",
       "      <td>2017-11-10</td>\n",
       "      <td>0.001421</td>\n",
       "      <td>0.001431</td>\n",
       "      <td>0.001125</td>\n",
       "      <td>0.001163</td>\n",
       "      <td>0.001163</td>\n",
       "      <td>4246520.0</td>\n",
       "    </tr>\n",
       "    <tr>\n",
       "      <th>2</th>\n",
       "      <td>2017-11-11</td>\n",
       "      <td>0.001146</td>\n",
       "      <td>0.001257</td>\n",
       "      <td>0.001141</td>\n",
       "      <td>0.001201</td>\n",
       "      <td>0.001201</td>\n",
       "      <td>2231080.0</td>\n",
       "    </tr>\n",
       "    <tr>\n",
       "      <th>3</th>\n",
       "      <td>2017-11-12</td>\n",
       "      <td>0.001189</td>\n",
       "      <td>0.001210</td>\n",
       "      <td>0.001002</td>\n",
       "      <td>0.001038</td>\n",
       "      <td>0.001038</td>\n",
       "      <td>3288960.0</td>\n",
       "    </tr>\n",
       "    <tr>\n",
       "      <th>4</th>\n",
       "      <td>2017-11-13</td>\n",
       "      <td>0.001046</td>\n",
       "      <td>0.001212</td>\n",
       "      <td>0.001019</td>\n",
       "      <td>0.001211</td>\n",
       "      <td>0.001211</td>\n",
       "      <td>2481270.0</td>\n",
       "    </tr>\n",
       "  </tbody>\n",
       "</table>\n",
       "</div>"
      ],
      "text/plain": [
       "         Date      Open      High       Low     Close  Adj Close     Volume\n",
       "0  2017-11-09  0.001207  0.001415  0.001181  0.001415   0.001415  6259550.0\n",
       "1  2017-11-10  0.001421  0.001431  0.001125  0.001163   0.001163  4246520.0\n",
       "2  2017-11-11  0.001146  0.001257  0.001141  0.001201   0.001201  2231080.0\n",
       "3  2017-11-12  0.001189  0.001210  0.001002  0.001038   0.001038  3288960.0\n",
       "4  2017-11-13  0.001046  0.001212  0.001019  0.001211   0.001211  2481270.0"
      ]
     },
     "execution_count": 2,
     "metadata": {},
     "output_type": "execute_result"
    }
   ],
   "source": [
    "# URL to the raw version of the CSV file in the GitHub repository\n",
    "url = 'https://raw.githubusercontent.com/wharsh/DodgeCoin-Price-Prediction-with-ML/main/DOGE-USD.csv'\n",
    "#data = pd.read_csv(\"DOGE-USD.csv\") \n",
    "data = pd.read_csv(url)\n",
    "data.head() "
   ]
  },
  {
   "cell_type": "markdown",
   "id": "23bf8694",
   "metadata": {},
   "source": [
    "Now, let’s check the correlation"
   ]
  },
  {
   "cell_type": "code",
   "execution_count": 3,
   "id": "26a277f9",
   "metadata": {},
   "outputs": [
    {
     "name": "stdout",
     "output_type": "stream",
     "text": [
      "               Open      High       Low     Close  Adj Close    Volume\n",
      "Open       1.000000  0.993904  0.993707  0.992514   0.992514  0.554850\n",
      "High       0.993904  1.000000  0.986497  0.995104   0.995104  0.619321\n",
      "Low        0.993707  0.986497  1.000000  0.994575   0.994575  0.519991\n",
      "Close      0.992514  0.995104  0.994575  1.000000   1.000000  0.588678\n",
      "Adj Close  0.992514  0.995104  0.994575  1.000000   1.000000  0.588678\n",
      "Volume     0.554850  0.619321  0.519991  0.588678   0.588678  1.000000\n"
     ]
    }
   ],
   "source": [
    "numeric_data = data.select_dtypes(include=['number'])  # Select only numeric columns\n",
    "correlations = numeric_data.corr()  # Compute correlation matrix\n",
    "\n",
    "print(correlations)"
   ]
  },
  {
   "cell_type": "markdown",
   "id": "cabba246",
   "metadata": {},
   "source": [
    "Converting the string date & time in proper date & time format with the help of pandas. After that check is there any null value is present or not."
   ]
  },
  {
   "cell_type": "code",
   "execution_count": 4,
   "id": "74022a64",
   "metadata": {},
   "outputs": [
    {
     "name": "stdout",
     "output_type": "stream",
     "text": [
      "Index(['Date', 'Open', 'High', 'Low', 'Close', 'Adj Close', 'Volume'], dtype='object')\n"
     ]
    }
   ],
   "source": [
    "print(data.columns)"
   ]
  },
  {
   "cell_type": "code",
   "execution_count": 5,
   "id": "f6e68d2d",
   "metadata": {},
   "outputs": [
    {
     "data": {
      "text/plain": [
       "Open         1\n",
       "High         1\n",
       "Low          1\n",
       "Close        1\n",
       "Adj Close    1\n",
       "Volume       1\n",
       "dtype: int64"
      ]
     },
     "execution_count": 5,
     "metadata": {},
     "output_type": "execute_result"
    }
   ],
   "source": [
    "#data=data.dropna()\n",
    "\n",
    "data['Date'] = pd.to_datetime(data['Date'],\n",
    "                              infer_datetime_format=True) \n",
    "data.set_index('Date',inplace=True) \n",
    "\n",
    "data.isnull().any() \n",
    "data.isnull().sum()"
   ]
  },
  {
   "cell_type": "markdown",
   "id": "528a7487",
   "metadata": {},
   "source": [
    "Drop Null"
   ]
  },
  {
   "cell_type": "code",
   "execution_count": 6,
   "id": "a1f95b2a",
   "metadata": {},
   "outputs": [],
   "source": [
    "data = data.dropna()"
   ]
  },
  {
   "cell_type": "markdown",
   "id": "3d74f11b",
   "metadata": {},
   "source": [
    "Now, check the statistical analysis of the data using describe() method"
   ]
  },
  {
   "cell_type": "code",
   "execution_count": 7,
   "id": "111cb482",
   "metadata": {},
   "outputs": [
    {
     "data": {
      "text/html": [
       "<div>\n",
       "<style scoped>\n",
       "    .dataframe tbody tr th:only-of-type {\n",
       "        vertical-align: middle;\n",
       "    }\n",
       "\n",
       "    .dataframe tbody tr th {\n",
       "        vertical-align: top;\n",
       "    }\n",
       "\n",
       "    .dataframe thead th {\n",
       "        text-align: right;\n",
       "    }\n",
       "</style>\n",
       "<table border=\"1\" class=\"dataframe\">\n",
       "  <thead>\n",
       "    <tr style=\"text-align: right;\">\n",
       "      <th></th>\n",
       "      <th>Open</th>\n",
       "      <th>High</th>\n",
       "      <th>Low</th>\n",
       "      <th>Close</th>\n",
       "      <th>Adj Close</th>\n",
       "      <th>Volume</th>\n",
       "    </tr>\n",
       "  </thead>\n",
       "  <tbody>\n",
       "    <tr>\n",
       "      <th>count</th>\n",
       "      <td>1760.000000</td>\n",
       "      <td>1760.000000</td>\n",
       "      <td>1760.000000</td>\n",
       "      <td>1760.000000</td>\n",
       "      <td>1760.000000</td>\n",
       "      <td>1.760000e+03</td>\n",
       "    </tr>\n",
       "    <tr>\n",
       "      <th>mean</th>\n",
       "      <td>0.059575</td>\n",
       "      <td>0.063096</td>\n",
       "      <td>0.056126</td>\n",
       "      <td>0.059619</td>\n",
       "      <td>0.059619</td>\n",
       "      <td>1.016258e+09</td>\n",
       "    </tr>\n",
       "    <tr>\n",
       "      <th>std</th>\n",
       "      <td>0.101325</td>\n",
       "      <td>0.109152</td>\n",
       "      <td>0.093695</td>\n",
       "      <td>0.101379</td>\n",
       "      <td>0.101379</td>\n",
       "      <td>3.563999e+09</td>\n",
       "    </tr>\n",
       "    <tr>\n",
       "      <th>min</th>\n",
       "      <td>0.001046</td>\n",
       "      <td>0.001210</td>\n",
       "      <td>0.001002</td>\n",
       "      <td>0.001038</td>\n",
       "      <td>0.001038</td>\n",
       "      <td>1.431720e+06</td>\n",
       "    </tr>\n",
       "    <tr>\n",
       "      <th>25%</th>\n",
       "      <td>0.002550</td>\n",
       "      <td>0.002616</td>\n",
       "      <td>0.002500</td>\n",
       "      <td>0.002548</td>\n",
       "      <td>0.002548</td>\n",
       "      <td>2.307671e+07</td>\n",
       "    </tr>\n",
       "    <tr>\n",
       "      <th>50%</th>\n",
       "      <td>0.003476</td>\n",
       "      <td>0.003603</td>\n",
       "      <td>0.003356</td>\n",
       "      <td>0.003495</td>\n",
       "      <td>0.003495</td>\n",
       "      <td>8.981855e+07</td>\n",
       "    </tr>\n",
       "    <tr>\n",
       "      <th>75%</th>\n",
       "      <td>0.070633</td>\n",
       "      <td>0.075035</td>\n",
       "      <td>0.068478</td>\n",
       "      <td>0.070657</td>\n",
       "      <td>0.070657</td>\n",
       "      <td>6.565853e+08</td>\n",
       "    </tr>\n",
       "    <tr>\n",
       "      <th>max</th>\n",
       "      <td>0.687801</td>\n",
       "      <td>0.737567</td>\n",
       "      <td>0.608168</td>\n",
       "      <td>0.684777</td>\n",
       "      <td>0.684777</td>\n",
       "      <td>6.941068e+10</td>\n",
       "    </tr>\n",
       "  </tbody>\n",
       "</table>\n",
       "</div>"
      ],
      "text/plain": [
       "              Open         High          Low        Close    Adj Close  \\\n",
       "count  1760.000000  1760.000000  1760.000000  1760.000000  1760.000000   \n",
       "mean      0.059575     0.063096     0.056126     0.059619     0.059619   \n",
       "std       0.101325     0.109152     0.093695     0.101379     0.101379   \n",
       "min       0.001046     0.001210     0.001002     0.001038     0.001038   \n",
       "25%       0.002550     0.002616     0.002500     0.002548     0.002548   \n",
       "50%       0.003476     0.003603     0.003356     0.003495     0.003495   \n",
       "75%       0.070633     0.075035     0.068478     0.070657     0.070657   \n",
       "max       0.687801     0.737567     0.608168     0.684777     0.684777   \n",
       "\n",
       "             Volume  \n",
       "count  1.760000e+03  \n",
       "mean   1.016258e+09  \n",
       "std    3.563999e+09  \n",
       "min    1.431720e+06  \n",
       "25%    2.307671e+07  \n",
       "50%    8.981855e+07  \n",
       "75%    6.565853e+08  \n",
       "max    6.941068e+10  "
      ]
     },
     "execution_count": 7,
     "metadata": {},
     "output_type": "execute_result"
    }
   ],
   "source": [
    "data.describe()"
   ]
  },
  {
   "cell_type": "markdown",
   "id": "d27f74bc",
   "metadata": {},
   "source": [
    "Now, firstly we will analyze the closing price as we need it to perform the prediction."
   ]
  },
  {
   "cell_type": "code",
   "execution_count": 8,
   "id": "5d146b0b",
   "metadata": {},
   "outputs": [
    {
     "data": {
      "text/plain": [
       "Text(0.5, 1.0, 'Date vs Close of 2021')"
      ]
     },
     "execution_count": 8,
     "metadata": {},
     "output_type": "execute_result"
    },
    {
     "data": {
      "image/png": "[encoded data removed]",
      "text/plain": [
       "<Figure size 1440x504 with 1 Axes>"
      ]
     },
     "metadata": {
      "needs_background": "light"
     },
     "output_type": "display_data"
    }
   ],
   "source": [
    "plt.figure(figsize=(20, 7)) \n",
    "x = data.groupby('Date')['Close'].mean() \n",
    "x.plot(linewidth=2.5, color='b') \n",
    "plt.xlabel('Date') \n",
    "plt.ylabel('Volume') \n",
    "plt.title(\"Date vs Close of 2021\") "
   ]
  },
  {
   "cell_type": "markdown",
   "id": "41a3da44",
   "metadata": {},
   "source": [
    "The column ‘Close’ is our predicted feature. We are taking different factors from the predefined factors for our own calculation and naming them suitably. Also, we are checking each factor while correlating with the ‘Close’ column while sorting it in descending order."
   ]
  },
  {
   "cell_type": "code",
   "execution_count": 9,
   "id": "5318eb1b",
   "metadata": {},
   "outputs": [
    {
     "data": {
      "text/plain": [
       "Close        1.000000\n",
       "Adj Close    1.000000\n",
       "High         0.995104\n",
       "Low          0.994575\n",
       "Open         0.992514\n",
       "Volume       0.588678\n",
       "b            0.456479\n",
       "gap          0.383333\n",
       "a            0.172057\n",
       "z            0.063251\n",
       "y            0.063868\n",
       "Name: Close, dtype: float64"
      ]
     },
     "execution_count": 9,
     "metadata": {},
     "output_type": "execute_result"
    }
   ],
   "source": [
    "data[\"gap\"] = (data[\"High\"] - data[\"Low\"]) * data[\"Volume\"] \n",
    "data[\"y\"] = data[\"High\"] / data[\"Volume\"] \n",
    "data[\"z\"] = data[\"Low\"] / data[\"Volume\"] \n",
    "data[\"a\"] = data[\"High\"] / data[\"Low\"] \n",
    "data[\"b\"] = (data[\"High\"] / data[\"Low\"]) * data[\"Volume\"] \n",
    "abs(data.corr()[\"Close\"].sort_values(ascending=False)) "
   ]
  },
  {
   "cell_type": "markdown",
   "id": "0c48edb6",
   "metadata": {},
   "source": [
    "By, observing the correlating factors, we can choose a few of them. We are excluding High, Low, and Open as they are highly correlated from the beginning."
   ]
  },
  {
   "cell_type": "code",
   "execution_count": 10,
   "id": "4eb20b94",
   "metadata": {},
   "outputs": [
    {
     "data": {
      "text/html": [
       "<div>\n",
       "<style scoped>\n",
       "    .dataframe tbody tr th:only-of-type {\n",
       "        vertical-align: middle;\n",
       "    }\n",
       "\n",
       "    .dataframe tbody tr th {\n",
       "        vertical-align: top;\n",
       "    }\n",
       "\n",
       "    .dataframe thead th {\n",
       "        text-align: right;\n",
       "    }\n",
       "</style>\n",
       "<table border=\"1\" class=\"dataframe\">\n",
       "  <thead>\n",
       "    <tr style=\"text-align: right;\">\n",
       "      <th></th>\n",
       "      <th>Close</th>\n",
       "      <th>Volume</th>\n",
       "      <th>gap</th>\n",
       "      <th>a</th>\n",
       "      <th>b</th>\n",
       "    </tr>\n",
       "    <tr>\n",
       "      <th>Date</th>\n",
       "      <th></th>\n",
       "      <th></th>\n",
       "      <th></th>\n",
       "      <th></th>\n",
       "      <th></th>\n",
       "    </tr>\n",
       "  </thead>\n",
       "  <tbody>\n",
       "    <tr>\n",
       "      <th>2017-11-09</th>\n",
       "      <td>0.001415</td>\n",
       "      <td>6259550.0</td>\n",
       "      <td>1464.73470</td>\n",
       "      <td>1.198137</td>\n",
       "      <td>7.499800e+06</td>\n",
       "    </tr>\n",
       "    <tr>\n",
       "      <th>2017-11-10</th>\n",
       "      <td>0.001163</td>\n",
       "      <td>4246520.0</td>\n",
       "      <td>1299.43512</td>\n",
       "      <td>1.272000</td>\n",
       "      <td>5.401573e+06</td>\n",
       "    </tr>\n",
       "    <tr>\n",
       "      <th>2017-11-11</th>\n",
       "      <td>0.001201</td>\n",
       "      <td>2231080.0</td>\n",
       "      <td>258.80528</td>\n",
       "      <td>1.101665</td>\n",
       "      <td>2.457903e+06</td>\n",
       "    </tr>\n",
       "    <tr>\n",
       "      <th>2017-11-12</th>\n",
       "      <td>0.001038</td>\n",
       "      <td>3288960.0</td>\n",
       "      <td>684.10368</td>\n",
       "      <td>1.207585</td>\n",
       "      <td>3.971698e+06</td>\n",
       "    </tr>\n",
       "    <tr>\n",
       "      <th>2017-11-13</th>\n",
       "      <td>0.001211</td>\n",
       "      <td>2481270.0</td>\n",
       "      <td>478.88511</td>\n",
       "      <td>1.189401</td>\n",
       "      <td>2.951226e+06</td>\n",
       "    </tr>\n",
       "  </tbody>\n",
       "</table>\n",
       "</div>"
      ],
      "text/plain": [
       "               Close     Volume         gap         a             b\n",
       "Date                                                               \n",
       "2017-11-09  0.001415  6259550.0  1464.73470  1.198137  7.499800e+06\n",
       "2017-11-10  0.001163  4246520.0  1299.43512  1.272000  5.401573e+06\n",
       "2017-11-11  0.001201  2231080.0   258.80528  1.101665  2.457903e+06\n",
       "2017-11-12  0.001038  3288960.0   684.10368  1.207585  3.971698e+06\n",
       "2017-11-13  0.001211  2481270.0   478.88511  1.189401  2.951226e+06"
      ]
     },
     "execution_count": 10,
     "metadata": {},
     "output_type": "execute_result"
    }
   ],
   "source": [
    "data = data[[\"Close\", \"Volume\", \"gap\", \"a\", \"b\"]] \n",
    "data.head() "
   ]
  },
  {
   "cell_type": "markdown",
   "id": "80a9f978",
   "metadata": {},
   "source": [
    "Introducing the ARIMA model for Time Series Analysis. ARIMA stands for autoregressive integrated moving average model and is specified by three order parameters: (p, d, q) where AR stands for Autoregression i.e. p, I stands for Integration i.e. d, MA stands for Moving Average i.e. q. Whereas, SARIMAX is Seasonal ARIMA with exogenous variables."
   ]
  },
  {
   "cell_type": "code",
   "execution_count": 11,
   "id": "71bb7264",
   "metadata": {},
   "outputs": [
    {
     "name": "stdout",
     "output_type": "stream",
     "text": [
      "(11, 5) (19, 5)\n"
     ]
    }
   ],
   "source": [
    "df2 = data.tail(30) \n",
    "train = df2[:11] \n",
    "test = df2[-19:] \n",
    "\n",
    "print(train.shape, test.shape) "
   ]
  },
  {
   "cell_type": "markdown",
   "id": "5e8fb509",
   "metadata": {},
   "source": [
    "The shape of the train is (11, 5), and the test is (19, 5). Let’s implement the SARIMAX model and see the results.\n",
    "### Model Development"
   ]
  },
  {
   "cell_type": "code",
   "execution_count": 12,
   "id": "175c9f81",
   "metadata": {},
   "outputs": [
    {
     "name": "stdout",
     "output_type": "stream",
     "text": [
      "RUNNING THE L-BFGS-B CODE\n",
      "\n",
      "           * * *\n",
      "\n",
      "Machine precision = 2.220D-16\n",
      " N =            8     M =           10\n",
      "\n",
      "At X0         0 variables are exactly at the bounds\n",
      "\n",
      "At iterate    0    f= -4.33299D+00    |proj g|=  2.43328D+18\n",
      "\n",
      "           * * *\n",
      "\n",
      "Tit   = total number of iterations\n",
      "Tnf   = total number of function evaluations\n",
      "Tnint = total number of segments explored during Cauchy searches\n",
      "Skip  = number of BFGS updates skipped\n",
      "Nact  = number of active bounds at final generalized Cauchy point\n",
      "Projg = norm of the final projected gradient\n",
      "F     = final function value\n",
      "\n",
      "           * * *\n",
      "\n",
      "   N    Tit     Tnf  Tnint  Skip  Nact     Projg        F\n",
      "    8      1     21      1     0     0   2.433D+18  -4.333D+00\n",
      "  F =  -4.3329933866997798     \n",
      "\n",
      "ABNORMAL_TERMINATION_IN_LNSRCH                              \n",
      "                               SARIMAX Results                                \n",
      "==============================================================================\n",
      "Dep. Variable:                  Close   No. Observations:                   11\n",
      "Model:               SARIMAX(2, 1, 1)   Log Likelihood                  47.663\n",
      "Date:                Mon, 09 Sep 2024   AIC                            -79.326\n",
      "Time:                        22:07:29   BIC                            -76.905\n",
      "Sample:                    08-05-2022   HQIC                           -81.981\n",
      "                         - 08-15-2022                                         \n",
      "Covariance Type:                  opg                                         \n",
      "==============================================================================\n",
      "                 coef    std err          z      P>|z|      [0.025      0.975]\n",
      "------------------------------------------------------------------------------\n",
      "Volume      7.491e-10   1.84e-10      4.077      0.000    3.89e-10    1.11e-09\n",
      "gap          1.13e-08   2.45e-09      4.615      0.000     6.5e-09    1.61e-08\n",
      "a             -0.0073   5.05e-15  -1.44e+12      0.000      -0.007      -0.007\n",
      "b          -7.541e-10   1.83e-10     -4.126      0.000   -1.11e-09   -3.96e-10\n",
      "ar.L1              -0   8.45e-15         -0      1.000   -1.66e-14    1.66e-14\n",
      "ar.L2               0   2.59e-14          0      1.000   -5.07e-14    5.07e-14\n",
      "ma.L1         -0.5015   1.87e-14  -2.68e+13      0.000      -0.501      -0.501\n",
      "sigma2      3.673e-07   5.67e-08      6.481      0.000    2.56e-07    4.78e-07\n",
      "===================================================================================\n",
      "Ljung-Box (L1) (Q):                   0.15   Jarque-Bera (JB):                 0.51\n",
      "Prob(Q):                              0.70   Prob(JB):                         0.77\n",
      "Heteroskedasticity (H):               0.40   Skew:                            -0.54\n",
      "Prob(H) (two-sided):                  0.47   Kurtosis:                         2.72\n",
      "===================================================================================\n",
      "\n",
      "Warnings:\n",
      "[1] Covariance matrix calculated using the outer product of gradients (complex-step).\n",
      "[2] Covariance matrix is singular or near-singular, with condition number 6.62e+29. Standard errors may be unstable.\n"
     ]
    },
    {
     "name": "stderr",
     "output_type": "stream",
     "text": [
      "/Users/harshwardhan/opt/anaconda3/lib/python3.9/site-packages/statsmodels/tsa/base/tsa_model.py:471: ValueWarning: No frequency information was provided, so inferred frequency D will be used.\n",
      "  self._init_dates(dates, freq)\n",
      "/Users/harshwardhan/opt/anaconda3/lib/python3.9/site-packages/statsmodels/tsa/base/tsa_model.py:471: ValueWarning: No frequency information was provided, so inferred frequency D will be used.\n",
      "  self._init_dates(dates, freq)\n",
      "/Users/harshwardhan/opt/anaconda3/lib/python3.9/site-packages/statsmodels/tsa/statespace/sarimax.py:966: UserWarning: Non-stationary starting autoregressive parameters found. Using zeros as starting parameters.\n",
      "  warn('Non-stationary starting autoregressive parameters'\n",
      " This problem is unconstrained.\n",
      "\n",
      " Line search cannot locate an adequate point after MAXLS\n",
      "  function and gradient evaluations.\n",
      "  Previous x, f and g restored.\n",
      " Possible causes: 1 error in function or gradient evaluation;\n",
      "                  2 rounding error dominate computation.\n",
      "/Users/harshwardhan/opt/anaconda3/lib/python3.9/site-packages/statsmodels/base/model.py:604: ConvergenceWarning: Maximum Likelihood optimization failed to converge. Check mle_retvals\n",
      "  warnings.warn(\"Maximum Likelihood optimization failed to \"\n"
     ]
    }
   ],
   "source": [
    "from statsmodels.tsa.statespace.sarimax import SARIMAX \n",
    "model = SARIMAX(endog=train[\"Close\"], exog=train.drop( \"Close\", axis=1), order=(2, 1, 1)) \n",
    "results = model.fit() \n",
    "print(results.summary()) "
   ]
  },
  {
   "cell_type": "markdown",
   "id": "0b555730",
   "metadata": {},
   "source": [
    "Now, observe the prediction in time series."
   ]
  },
  {
   "cell_type": "code",
   "execution_count": 13,
   "id": "68bfebe8",
   "metadata": {},
   "outputs": [
    {
     "data": {
      "text/plain": [
       "2022-08-16    0.097293\n",
       "2022-08-17    0.083717\n",
       "2022-08-18    0.075957\n",
       "2022-08-19    0.069575\n",
       "2022-08-20    0.071583\n",
       "2022-08-21    0.072099\n",
       "2022-08-22    0.071244\n",
       "2022-08-23    0.072458\n",
       "2022-08-24    0.072406\n",
       "2022-08-25    0.071893\n",
       "2022-08-26    0.068140\n",
       "2022-08-27    0.071804\n",
       "2022-08-28    0.071866\n",
       "2022-08-29    0.071522\n",
       "2022-08-30    0.070720\n",
       "2022-08-31    0.071736\n",
       "2022-09-01    0.071452\n",
       "2022-09-02    0.072203\n",
       "2022-09-03    0.072785\n",
       "Freq: D, Name: predicted_mean, dtype: float64"
      ]
     },
     "execution_count": 13,
     "metadata": {},
     "output_type": "execute_result"
    }
   ],
   "source": [
    "start = 11\n",
    "end = 29\n",
    "predictions = results.predict( start=start, end=end, exog=test.drop(\"Close\", axis=1)) \n",
    "predictions "
   ]
  },
  {
   "cell_type": "markdown",
   "id": "2c33ffa3",
   "metadata": {},
   "source": [
    "Finally, plot the prediction to get a visualization."
   ]
  },
  {
   "cell_type": "code",
   "execution_count": 14,
   "id": "c241f3d1",
   "metadata": {},
   "outputs": [
    {
     "data": {
      "text/plain": [
       "<AxesSubplot:xlabel='Date'>"
      ]
     },
     "execution_count": 14,
     "metadata": {},
     "output_type": "execute_result"
    },
    {
     "data": {
      "image/png": "[encoded data removed]",
      "text/plain": [
       "<Figure size 864x432 with 1 Axes>"
      ]
     },
     "metadata": {
      "needs_background": "light"
     },
     "output_type": "display_data"
    }
   ],
   "source": [
    "test[\"Close\"].plot(legend=True, figsize=(12, 6)) \n",
    "predictions.plot(label='TimeSeries', legend=True) "
   ]
  }
 ],
 "metadata": {
  "kernelspec": {
   "display_name": "Python 3 (ipykernel)",
   "language": "python",
   "name": "python3"
  },
  "language_info": {
   "codemirror_mode": {
    "name": "ipython",
    "version": 3
   },
   "file_extension": ".py",
   "mimetype": "text/x-python",
   "name": "python",
   "nbconvert_exporter": "python",
   "pygments_lexer": "ipython3",
   "version": "3.9.12"
  }
 },
 "nbformat": 4,
 "nbformat_minor": 5
}
