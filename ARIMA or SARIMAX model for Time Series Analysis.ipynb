{
 "cells": [
  {
   "cell_type": "markdown",
   "id": "96aa2cb4",
   "metadata": {},
   "source": [
    "# Dogecoin Price Prediction with Machine Learning\n",
    "### Credit: www.geeksforgeeks.org"
   ]
  },
  {
   "cell_type": "markdown",
   "id": "25ceb7ce",
   "metadata": {},
   "source": [
    "Dogecoin is a cryptocurrency, like Ethereum or Bitcoin — despite the fact that it’s totally different than both of these famous coins. Dogecoin was initially made to some extent as a joke for crypto devotees and took its name from a previously well-known meme.\n",
    "\n",
    "In this article, we will be implementing a machine learning model which can predict the pattern or forecast the price of the coin in the upcoming days. Let us now move toward the implementation of price prediction.\n",
    "\n",
    "### Importing Libraries and Dataset\n",
    "\n",
    "Python libraries make it easy for us to handle the data and perform typical and complex tasks with a single line of code.\n",
    "\n",
    "Pandas – This library helps to load the data frame in a 2D array format and has multiple functions to perform analysis tasks in one go.\n",
    "Numpy – Numpy arrays are very fast and can perform large computations in a very short time.\n",
    "Matplotlib/Seaborn – This library is used to draw visualizations.\n"
   ]
  },
  {
   "cell_type": "code",
   "execution_count": null,
   "id": "4ff1a6d2",
   "metadata": {},
   "outputs": [],
   "source": [
    "import pandas as pd \n",
    "import numpy as np \n",
    "import matplotlib.pyplot as plt \n",
    "import seaborn as sns \n",
    "from sklearn.ensemble import RandomForestRegressor "
   ]
  },
  {
   "cell_type": "markdown",
   "id": "4408b2ce",
   "metadata": {},
   "source": [
    "Now let us load the dataset in the panda’s data frame. One can download the CSV file."
   ]
  },
  {
   "cell_type": "code",
   "execution_count": null,
   "id": "400f4702",
   "metadata": {},
   "outputs": [],
   "source": [
    "data = pd.read_csv(\"DOGE-USD.csv\") \n",
    "data.head() "
   ]
  },
  {
   "cell_type": "markdown",
   "id": "7d261a64",
   "metadata": {},
   "source": [
    "Now, let’s check the correlation"
   ]
  },
  {
   "cell_type": "code",
   "execution_count": null,
   "id": "5c3e9467",
   "metadata": {},
   "outputs": [],
   "source": [
    "data.corr"
   ]
  },
  {
   "cell_type": "markdown",
   "id": "db7b18e9",
   "metadata": {},
   "source": [
    "Converting the string date & time in proper date & time format with the help of pandas. After that check is there any null value is present or not."
   ]
  },
  {
   "cell_type": "code",
   "execution_count": null,
   "id": "bbd6d3c8",
   "metadata": {},
   "outputs": [],
   "source": [
    "data['Date'] = pd.to_datetime(data['Date'], infer_datetime_format=True) \n",
    "data.set_index('Date', inplace=True) \n",
    "data.isnull().any() \n",
    "data.isnull.sum()"
   ]
  },
  {
   "cell_type": "markdown",
   "id": "56b8e7e0",
   "metadata": {},
   "source": [
    "Drop Null"
   ]
  },
  {
   "cell_type": "code",
   "execution_count": null,
   "id": "4347a051",
   "metadata": {},
   "outputs": [],
   "source": [
    "data = data.dropna()"
   ]
  },
  {
   "cell_type": "markdown",
   "id": "0d4cbc5d",
   "metadata": {},
   "source": [
    "Now, check the statistical analysis of the data using describe() method"
   ]
  },
  {
   "cell_type": "code",
   "execution_count": null,
   "id": "b884d460",
   "metadata": {},
   "outputs": [],
   "source": [
    "data.describe()"
   ]
  },
  {
   "cell_type": "markdown",
   "id": "040f5797",
   "metadata": {},
   "source": [
    "Now, firstly we will analyze the closing price as we need it to perform the prediction."
   ]
  },
  {
   "cell_type": "code",
   "execution_count": null,
   "id": "64e75eae",
   "metadata": {},
   "outputs": [],
   "source": [
    "plt.figure(figsize=(20, 7)) \n",
    "x = data.groupby('Date')['Close'].mean() \n",
    "x.plot(linewidth=2.5, color='b') \n",
    "plt.xlabel('Date') \n",
    "plt.ylabel('Volume') \n",
    "plt.title(\"Date vs Close of 2021\") "
   ]
  },
  {
   "cell_type": "markdown",
   "id": "b5832d27",
   "metadata": {},
   "source": [
    "The column ‘Close’ is our predicted feature. We are taking different factors from the predefined factors for our own calculation and naming them suitably. Also, we are checking each factor while correlating with the ‘Close’ column while sorting it in descending order."
   ]
  },
  {
   "cell_type": "code",
   "execution_count": null,
   "id": "932e4d90",
   "metadata": {},
   "outputs": [],
   "source": [
    "data[\"gap\"] = (data[\"High\"] - data[\"Low\"]) * data[\"Volume\"] \n",
    "data[\"y\"] = data[\"High\"] / data[\"Volume\"] \n",
    "data[\"z\"] = data[\"Low\"] / data[\"Volume\"] \n",
    "data[\"a\"] = data[\"High\"] / data[\"Low\"] \n",
    "data[\"b\"] = (data[\"High\"] / data[\"Low\"]) * data[\"Volume\"] \n",
    "abs(data.corr()[\"Close\"].sort_values(ascending=False)) "
   ]
  },
  {
   "cell_type": "markdown",
   "id": "59f19f28",
   "metadata": {},
   "source": [
    "By, observing the correlating factors, we can choose a few of them. We are excluding High, Low, and Open as they are highly correlated from the beginning."
   ]
  },
  {
   "cell_type": "code",
   "execution_count": null,
   "id": "d8770595",
   "metadata": {},
   "outputs": [],
   "source": [
    "data = data[[\"Close\", \"Volume\", \"gap\", \"a\", \"b\"]] \n",
    "data.head() "
   ]
  },
  {
   "cell_type": "markdown",
   "id": "c533489c",
   "metadata": {},
   "source": [
    "Introducing the ARIMA model for Time Series Analysis. ARIMA stands for autoregressive integrated moving average model and is specified by three order parameters: (p, d, q) where AR stands for Autoregression i.e. p, I stands for Integration i.e. d, MA stands for Moving Average i.e. q. Whereas, SARIMAX is Seasonal ARIMA with exogenous variables."
   ]
  },
  {
   "cell_type": "code",
   "execution_count": null,
   "id": "50897b38",
   "metadata": {},
   "outputs": [],
   "source": [
    "df2 = data.tail(30) \n",
    "train = df2[:11] \n",
    "test = df2[-19:] \n",
    "\n",
    "print(train.shape, test.shape) "
   ]
  },
  {
   "cell_type": "markdown",
   "id": "15457fea",
   "metadata": {},
   "source": [
    "The shape of the train is (11, 5), and the test is (19, 5). Let’s implement the SARIMAX model and see the results.\n",
    "### Model Development"
   ]
  },
  {
   "cell_type": "code",
   "execution_count": null,
   "id": "12dcb114",
   "metadata": {},
   "outputs": [],
   "source": [
    "from statsmodels.tsa.statespace.sarimax import SARIMAX \n",
    "model = SARIMAX(endog=train[\"Close\"], exog=train.drop( \n",
    "\t\"Close\", axis=1), order=(2, 1, 1)) \n",
    "results = model.fit() \n",
    "print(results.summary()) "
   ]
  },
  {
   "cell_type": "markdown",
   "id": "1865e22c",
   "metadata": {},
   "source": [
    "Now, observe the prediction in time series."
   ]
  },
  {
   "cell_type": "code",
   "execution_count": null,
   "id": "ccb558ab",
   "metadata": {},
   "outputs": [],
   "source": [
    "start = 11\n",
    "end = 29\n",
    "predictions = results.predict( \n",
    "\tstart=start, \n",
    "\tend=end, \n",
    "\texog=test.drop(\"Close\", axis=1)) \n",
    "predictions "
   ]
  },
  {
   "cell_type": "markdown",
   "id": "1c730c2b",
   "metadata": {},
   "source": [
    "Finally, plot the prediction to get a visualization."
   ]
  },
  {
   "cell_type": "code",
   "execution_count": null,
   "id": "80aed5d9",
   "metadata": {},
   "outputs": [],
   "source": [
    "test[\"Close\"].plot(legend=True, figsize=(12, 6)) \n",
    "predictions.plot(label='TimeSeries', legend=True) "
   ]
  }
 ],
 "metadata": {
  "kernelspec": {
   "display_name": "Python 3 (ipykernel)",
   "language": "python",
   "name": "python3"
  },
  "language_info": {
   "codemirror_mode": {
    "name": "ipython",
    "version": 3
   },
   "file_extension": ".py",
   "mimetype": "text/x-python",
   "name": "python",
   "nbconvert_exporter": "python",
   "pygments_lexer": "ipython3",
   "version": "3.9.12"
  }
 },
 "nbformat": 4,
 "nbformat_minor": 5
}
